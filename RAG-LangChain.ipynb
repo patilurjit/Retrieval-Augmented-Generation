{
 "cells": [
  {
   "cell_type": "markdown",
   "metadata": {},
   "source": [
    "### Imports"
   ]
  },
  {
   "cell_type": "code",
   "execution_count": 1,
   "metadata": {},
   "outputs": [],
   "source": [
    "import os\n",
    "from langchain_openai import ChatOpenAI\n",
    "from langchain_openai.embeddings import OpenAIEmbeddings\n",
    "from langchain_core.output_parsers import StrOutputParser\n",
    "from langchain_community.document_loaders import PyMuPDFLoader\n",
    "from langchain.schema.document import Document\n",
    "from langchain.retrievers.multi_vector import MultiVectorRetriever\n",
    "from langchain.chains.summarize import load_summarize_chain\n",
    "from langchain.prompts import PromptTemplate\n",
    "from langchain_pinecone import PineconeVectorStore\n",
    "from langchain.storage import InMemoryStore\n",
    "from langchain.load import dumps, loads\n",
    "import random\n",
    "from operator import itemgetter\n",
    "import re\n",
    "import matplotlib.pyplot as plt\n",
    "import uuid"
   ]
  },
  {
   "cell_type": "code",
   "execution_count": 2,
   "metadata": {},
   "outputs": [],
   "source": [
    "OPENAI_API_KEY = os.getenv(\"OPENAI_API_KEY\")\n",
    "MODEL = \"gpt-3.5-turbo\""
   ]
  },
  {
   "cell_type": "markdown",
   "metadata": {},
   "source": [
    "### Load and clean the document for creation of knowldge base "
   ]
  },
  {
   "cell_type": "code",
   "execution_count": 3,
   "metadata": {},
   "outputs": [],
   "source": [
    "loader = PyMuPDFLoader('human-nutrition-text.pdf')\n",
    "pages = loader.load()"
   ]
  },
  {
   "cell_type": "code",
   "execution_count": 4,
   "metadata": {},
   "outputs": [
    {
     "name": "stdout",
     "output_type": "stream",
     "text": [
      "There are 1208 pages in the document.\n"
     ]
    }
   ],
   "source": [
    "print(f'There are {len(pages)} pages in the document.')"
   ]
  },
  {
   "cell_type": "markdown",
   "metadata": {},
   "source": [
    "The first 41 pages were dropped because they contained information not required for response generation. They contained the contents, acknowledgements, and other information."
   ]
  },
  {
   "cell_type": "code",
   "execution_count": 5,
   "metadata": {},
   "outputs": [],
   "source": [
    "pages = pages[42:]"
   ]
  },
  {
   "cell_type": "code",
   "execution_count": 6,
   "metadata": {},
   "outputs": [
    {
     "name": "stdout",
     "output_type": "stream",
     "text": [
      "tested food additive. It is approved for use as an artificial sweetener \n",
      "in over ninety countries. \n",
      "Aspartame is made by joining aspartic acid and phenylalanine to \n",
      "a dipeptide (with a methyl ester). When digested, it is broken down \n",
      "to aspartic acid, phenylalanine, and methanol. People who have the \n",
      "rare genetic disorder phenylketonuria (PKU) have to avoid products \n",
      "containing aspartame. Individuals who have PKU do not have a \n",
      "functional enzyme that converts phenylalanine to the amino acid \n",
      "tyrosine. This causes a buildup of phenylalanine and its metabolic \n",
      "products in the body. If PKU is not treated, the buildup of \n",
      "phenylalanine causes progressive brain damage and seizures. The \n",
      "FDA requires products that contain aspartame to state on the \n",
      "product label, “Phenylketonurics: Contains Phenylalanine.” For more \n",
      "details on sugar substitutes please refer to Table 4.6 “Sweeteners”. \n",
      "Table 4.6 Sweeteners \n",
      "Carbohydrates and Personal Diet Choices  |  281\n",
      "\n",
      "---------------------------------------------------------------\n",
      "\n",
      "---------------------------------------------------------------\n",
      "PCBs, or polychlorinated biphenyls, are man-made organic \n",
      "compounds that consists of carbon, hydrogen and chlorine. Due to \n",
      "their non-flammability, chemically stable, and high boiling points \n",
      "PCBs were manufactured and used commercially from 1929 until \n",
      "1979 \n",
      "when \n",
      "it \n",
      "was \n",
      "banned. \n",
      "Like \n",
      "methylmercury, \n",
      "higher \n",
      "concentrations of this contaminant are found in predatory fish. \n",
      "Health effects include complications in physical and neurological \n",
      "development in children, and this compound is potentially a \n",
      "carcinogen. PCB contamination also can affect the immune, \n",
      "reproductive, nervous, and endocrine systems.9 \n",
      "Learning Activities \n",
      "Technology Note: The second edition of the Human \n",
      "Nutrition Open Educational Resource (OER) textbook \n",
      "features interactive learning activities.  These activities are \n",
      "Ministry of the Environment, Government of \n",
      "Japan.http:/\n",
      "/www.env.go.jp/en/chemi/hs/\n",
      "minamata2002/. Published 2002. Accessed December 21, \n",
      "2011. \n",
      "9. Learn About Polychlorinated Biphenyls. (2017).US \n",
      "Environmental Protection Agency. \n",
      "https:/\n",
      "/www.epa.gov/pcbs/learn-about-\n",
      "polychlorinated-biphenyls-pcbs. Updated August 10, \n",
      "2017. Accessed January 28, 2018. \n",
      "The Causes of Food Contamination  |  1009\n",
      "\n",
      "---------------------------------------------------------------\n"
     ]
    }
   ],
   "source": [
    "for page in random.sample(pages, 3):\n",
    "    print(page.page_content)\n",
    "    print('---------------------------------------------------------------')"
   ]
  },
  {
   "cell_type": "code",
   "execution_count": 7,
   "metadata": {},
   "outputs": [],
   "source": [
    "def average_page_tokens(input_pages):\n",
    "    tokens = 0\n",
    "    for page in input_pages:\n",
    "        tokens += len(page.page_content)/4\n",
    "    return tokens / len(input_pages)"
   ]
  },
  {
   "cell_type": "code",
   "execution_count": 8,
   "metadata": {},
   "outputs": [
    {
     "name": "stdout",
     "output_type": "stream",
     "text": [
      "There are 291.488 tokens per page on average.\n"
     ]
    }
   ],
   "source": [
    "print(f'There are {round(average_page_tokens(pages), 3)} tokens per page on average.')"
   ]
  },
  {
   "cell_type": "markdown",
   "metadata": {},
   "source": [
    "The cleaning process involved removing the page numbers and unncessary text."
   ]
  },
  {
   "cell_type": "code",
   "execution_count": 9,
   "metadata": {},
   "outputs": [],
   "source": [
    "for page in pages:\n",
    "    page.page_content = re.sub(r'\\n\\s*\\n|\\n', '', page.page_content) # remove newlines and empty lines\n",
    "    page.page_content = re.sub(r'UNIVERSITY OF HAWAI‘I AT MĀNOA FOOD SCIENCE AND HUMAN NUTRITION PROGRAM AND HUMAN NUTRITION PROGRAM', '', page.page_content) # remove repetitive unnecessary text\n",
    "    page.page_content = re.sub(r'\\d+\\s*\\|\\s*[\\w\\s-]+', '', page.page_content) # remove page numbers\n",
    "    page.page_content = re.sub(r'[\\w\\s-]+\\s*\\|\\s*\\d+', '', page.page_content) # remove page numbers\n",
    "    page.page_content = re.sub(r'\\d+\\.\\xa0.*?(?=\\d+\\.\\xa0|$)|\\s*\\xa0\\d+\\(\\d+\\),\\s*\\d+–\\d+\\.\\s*http://[^\\s]+|http://[^\\s]+', '', page.page_content) # remove references\n",
    "    page.page_content = re.sub(r'An interactive or media element has been excluded from this version of the text. You can view it online here:', '', page.page_content) # remove repetitive unnecessary text\n",
    "    page.page_content = re.sub('\\xa0+', '', page.page_content) # remove one or more occurrences of \\xa0\n",
    "    page.page_content = re.sub(r'•', '', page.page_content) # remove bullet points\n",
    "    page.page_content = re.sub(r'http[s]?://(?:[a-zA-Z]|[0-9]|[$-_@.&+]|[!*\\\\(\\\\),]|(?:%[0-9a-fA-F][0-9a-fA-F]))+', '', page.page_content) # remove URLs\n",
    "    page.page_content = re.sub(r'Accessed [A-Za-z]+ \\d{1,2}, \\d{4}\\.', '', page.page_content) # remove repetitive unnecessary text\n",
    "    page.page_content = page.page_content.strip() # remove leading and trailing whitespaces"
   ]
  },
  {
   "cell_type": "code",
   "execution_count": 10,
   "metadata": {},
   "outputs": [
    {
     "name": "stdout",
     "output_type": "stream",
     "text": [
      "There are 245.009 tokens per page on average after cleaning the text.\n"
     ]
    }
   ],
   "source": [
    "print(f'There are {round(average_page_tokens(pages), 3)} tokens per page on average after cleaning the text.')"
   ]
  },
  {
   "cell_type": "code",
   "execution_count": 11,
   "metadata": {},
   "outputs": [
    {
     "data": {
      "image/png": "[encoded data removed]",
      "text/plain": [
       "<Figure size 640x480 with 1 Axes>"
      ]
     },
     "metadata": {},
     "output_type": "display_data"
    }
   ],
   "source": [
    "page_tokens = []\n",
    "\n",
    "for page in pages:\n",
    "    page_tokens.append(len(page.page_content) / 4)\n",
    "\n",
    "plt.hist(page_tokens)\n",
    "plt.xlabel('Tokens')\n",
    "plt.ylabel('Number of pages')\n",
    "plt.title('Distribution of tokens per page')\n",
    "plt.show()"
   ]
  },
  {
   "cell_type": "markdown",
   "metadata": {},
   "source": [
    "Removal of empty pages"
   ]
  },
  {
   "cell_type": "code",
   "execution_count": 12,
   "metadata": {},
   "outputs": [],
   "source": [
    "text = []\n",
    "\n",
    "for page in pages:\n",
    "    if (len(page.page_content) / 4) > 0:\n",
    "        text.append(page)\n",
    "\n",
    "pages = text"
   ]
  },
  {
   "cell_type": "code",
   "execution_count": 13,
   "metadata": {},
   "outputs": [
    {
     "name": "stdout",
     "output_type": "stream",
     "text": [
      "There are 1100 pages in the document after removing empty pages.\n"
     ]
    }
   ],
   "source": [
    "print(f'There are {len(pages)} pages in the document after removing empty pages.')"
   ]
  },
  {
   "cell_type": "code",
   "execution_count": 14,
   "metadata": {},
   "outputs": [
    {
     "data": {
      "image/png": "[encoded data removed]",
      "text/plain": [
       "<Figure size 640x480 with 1 Axes>"
      ]
     },
     "metadata": {},
     "output_type": "display_data"
    }
   ],
   "source": [
    "page_tokens = []\n",
    "\n",
    "for page in pages:\n",
    "    page_tokens.append(len(page.page_content) / 4)\n",
    "\n",
    "plt.hist(page_tokens)\n",
    "plt.xlabel('Tokens')\n",
    "plt.ylabel('Number of pages')\n",
    "plt.title('Distribution of tokens per page after removing empty pages')\n",
    "plt.show()"
   ]
  },
  {
   "cell_type": "code",
   "execution_count": 15,
   "metadata": {},
   "outputs": [
    {
     "name": "stdout",
     "output_type": "stream",
     "text": [
      "There are 259.709 tokens per page on average after removing empty pages.\n"
     ]
    }
   ],
   "source": [
    "print(f'There are {round(average_page_tokens(pages), 3)} tokens per page on average after removing empty pages.')"
   ]
  },
  {
   "cell_type": "markdown",
   "metadata": {},
   "source": [
    "Removal of pages with less than 75 tokens"
   ]
  },
  {
   "cell_type": "code",
   "execution_count": 16,
   "metadata": {},
   "outputs": [],
   "source": [
    "count = 0\n",
    "\n",
    "for page in pages:\n",
    "    if (len(page.page_content) / 4) <= 75:\n",
    "        count += 1"
   ]
  },
  {
   "cell_type": "code",
   "execution_count": 17,
   "metadata": {},
   "outputs": [
    {
     "name": "stdout",
     "output_type": "stream",
     "text": [
      "There are 120 pages with less than 75 tokens.\n"
     ]
    }
   ],
   "source": [
    "print(f'There are {count} pages with less than 75 tokens.')"
   ]
  },
  {
   "cell_type": "code",
   "execution_count": 18,
   "metadata": {},
   "outputs": [],
   "source": [
    "filtered_pages = []\n",
    "\n",
    "for page in pages:\n",
    "    if (len(page.page_content) / 4) > 75:\n",
    "        filtered_pages.append(page)\n",
    "\n",
    "pages = filtered_pages"
   ]
  },
  {
   "cell_type": "code",
   "execution_count": 19,
   "metadata": {},
   "outputs": [
    {
     "data": {
      "image/png": "[encoded data removed]",
      "text/plain": [
       "<Figure size 640x480 with 1 Axes>"
      ]
     },
     "metadata": {},
     "output_type": "display_data"
    }
   ],
   "source": [
    "page_tokens = []\n",
    "\n",
    "for page in pages:\n",
    "    page_tokens.append(len(page.page_content) / 4)\n",
    "\n",
    "plt.hist(page_tokens)\n",
    "plt.xlabel('Tokens')\n",
    "plt.ylabel('Number of pages')\n",
    "plt.title('Distribution of tokens per page after removing pages with less than 75 tokens')\n",
    "plt.show()"
   ]
  },
  {
   "cell_type": "code",
   "execution_count": 20,
   "metadata": {},
   "outputs": [
    {
     "name": "stdout",
     "output_type": "stream",
     "text": [
      "There are 287.604 tokens per page on average after removing pages with less than 75 tokens.\n"
     ]
    }
   ],
   "source": [
    "print(f'There are {round(average_page_tokens(pages), 3)} tokens per page on average after removing pages with less than 75 tokens.')"
   ]
  },
  {
   "cell_type": "markdown",
   "metadata": {},
   "source": [
    "### Creation of knowledge base"
   ]
  },
  {
   "cell_type": "code",
   "execution_count": 21,
   "metadata": {},
   "outputs": [],
   "source": [
    "model = ChatOpenAI(model = MODEL)"
   ]
  },
  {
   "cell_type": "markdown",
   "metadata": {},
   "source": [
    "Generation of summary for each page to be stored in the vector database for multi-vector retrieval"
   ]
  },
  {
   "cell_type": "code",
   "execution_count": 22,
   "metadata": {},
   "outputs": [
    {
     "name": "stderr",
     "output_type": "stream",
     "text": [
      "c:\\Users\\17327\\AppData\\Local\\Programs\\Python\\Python310\\lib\\site-packages\\langchain_core\\_api\\deprecation.py:139: LangChainDeprecationWarning: The method `Chain.run` was deprecated in langchain 0.1.0 and will be removed in 0.3.0. Use invoke instead.\n",
      "  warn_deprecated(\n"
     ]
    },
    {
     "name": "stdout",
     "output_type": "stream",
     "text": [
      "There are 980 summaries for 980 pages\n"
     ]
    }
   ],
   "source": [
    "summarize_chain = load_summarize_chain(model)\n",
    "\n",
    "id_key = 'doc_id'\n",
    "\n",
    "summaries = []\n",
    "\n",
    "for page in pages:\n",
    "    unique_id = str(uuid.uuid4())\n",
    "    page_summary = summarize_chain.run([page])\n",
    "    page_summary_document = Document(page_content = page_summary, metadata = {id_key: unique_id})\n",
    "    summaries.append(page_summary_document)\n",
    "\n",
    "    page.metadata[id_key] = unique_id\n",
    "\n",
    "print(f'There are {len(summaries)} summaries for {len(pages)} pages')"
   ]
  },
  {
   "cell_type": "markdown",
   "metadata": {},
   "source": [
    "Initialization of the vector and in memory database for storing the summaries and actual documents respectively"
   ]
  },
  {
   "cell_type": "code",
   "execution_count": 23,
   "metadata": {},
   "outputs": [],
   "source": [
    "embeddings = OpenAIEmbeddings()\n",
    "\n",
    "index_name = 'human-nutrition-index'\n",
    "vectordb = PineconeVectorStore(index_name = index_name, embedding = embeddings)\n",
    "\n",
    "docstore = InMemoryStore()"
   ]
  },
  {
   "cell_type": "code",
   "execution_count": 24,
   "metadata": {},
   "outputs": [],
   "source": [
    "retriever = MultiVectorRetriever(\n",
    "    vectorstore = vectordb,\n",
    "    docstore = docstore,\n",
    "    id_key = id_key\n",
    ")"
   ]
  },
  {
   "cell_type": "code",
   "execution_count": null,
   "metadata": {},
   "outputs": [],
   "source": [
    "retriever.vectorstore.add_documents(summaries)"
   ]
  },
  {
   "cell_type": "code",
   "execution_count": 26,
   "metadata": {},
   "outputs": [],
   "source": [
    "retriever.docstore.mset([(x.metadata['doc_id'], x) for x in pages])"
   ]
  },
  {
   "cell_type": "markdown",
   "metadata": {},
   "source": [
    "### Response Generation"
   ]
  },
  {
   "cell_type": "markdown",
   "metadata": {},
   "source": [
    "Response generation template"
   ]
  },
  {
   "cell_type": "code",
   "execution_count": 27,
   "metadata": {},
   "outputs": [
    {
     "name": "stdout",
     "output_type": "stream",
     "text": [
      "\n",
      "Answer the question based on the context below. If you cannot answer the question, reply \"I don't know\".\n",
      "\n",
      "Context: \n",
      "\n",
      "Question: \n",
      "\n"
     ]
    }
   ],
   "source": [
    "generation_template = \"\"\"\n",
    "Answer the question based on the context below. If you cannot answer the question, reply \"I don't know\".\n",
    "\n",
    "Context: {context}\n",
    "\n",
    "Question: {question}\n",
    "\"\"\"\n",
    "\n",
    "generation_prompt = PromptTemplate.from_template(generation_template)\n",
    "print(generation_prompt.format(context = '', question = ''))"
   ]
  },
  {
   "cell_type": "code",
   "execution_count": 28,
   "metadata": {},
   "outputs": [],
   "source": [
    "parser = StrOutputParser()"
   ]
  },
  {
   "cell_type": "markdown",
   "metadata": {},
   "source": [
    "Multi-query template"
   ]
  },
  {
   "cell_type": "code",
   "execution_count": 29,
   "metadata": {},
   "outputs": [],
   "source": [
    "multi_query_template = \"\"\"\n",
    "You are an AI language model assistant. Your task is to generate five different versions of the given user's question to retrieve relevant documents from a database.\n",
    "By generating multiple versions of the user's question, your goal is to help the user overcome some of the limitations of distance-based similarity search.\n",
    "Provide these alternative questions separated by newlines.\n",
    "Original question: {question}\"\"\"\n",
    "\n",
    "multi_query_prompt = PromptTemplate.from_template(multi_query_template)\n",
    "\n",
    "multi_query_chain = (\n",
    "    multi_query_prompt\n",
    "    | model\n",
    "    | parser\n",
    "    | (lambda x: x.split('\\n'))\n",
    ")"
   ]
  },
  {
   "cell_type": "markdown",
   "metadata": {},
   "source": [
    "Multi-query retrieval"
   ]
  },
  {
   "cell_type": "code",
   "execution_count": 30,
   "metadata": {},
   "outputs": [],
   "source": [
    "def get_unique_union(documents):\n",
    "    flattened_docs = [dumps(doc) for sublist in documents for doc in sublist]\n",
    "    unique_docs = list(set(flattened_docs))\n",
    "    return [loads(doc) for doc in unique_docs]"
   ]
  },
  {
   "cell_type": "code",
   "execution_count": 31,
   "metadata": {},
   "outputs": [],
   "source": [
    "retrieval_chain = (\n",
    "    multi_query_chain\n",
    "    | retriever.map()\n",
    "    | get_unique_union\n",
    ")"
   ]
  },
  {
   "cell_type": "markdown",
   "metadata": {},
   "source": [
    "Response generation (combination of multi-query and multi-vector retrieval)"
   ]
  },
  {
   "cell_type": "code",
   "execution_count": 32,
   "metadata": {},
   "outputs": [],
   "source": [
    "generation_chain = (\n",
    "    {\n",
    "        'context': itemgetter('question') | retrieval_chain,\n",
    "        'question': itemgetter('question')\n",
    "    }\n",
    "    | generation_prompt\n",
    "    | model\n",
    "    | parser\n",
    ")"
   ]
  },
  {
   "cell_type": "code",
   "execution_count": 33,
   "metadata": {},
   "outputs": [
    {
     "name": "stderr",
     "output_type": "stream",
     "text": [
      "c:\\Users\\17327\\AppData\\Local\\Programs\\Python\\Python310\\lib\\site-packages\\langchain_core\\_api\\beta_decorator.py:87: LangChainBetaWarning: The function `loads` is in beta. It is actively being worked on, so the API may change.\n",
      "  warn_beta(\n"
     ]
    },
    {
     "name": "stdout",
     "output_type": "stream",
     "text": [
      "Macronutrients are nutrients that are needed in large amounts by the body. They include carbohydrates, lipids, and proteins. These macronutrients provide energy for the body, support tissue formation, cell reparation, hormone and enzyme production, muscle strength, immune system health, and overall body functions.\n"
     ]
    }
   ],
   "source": [
    "print(generation_chain.invoke({'question': 'What are macronutrients, and what roles do they play in the human body?'}))"
   ]
  },
  {
   "cell_type": "code",
   "execution_count": 34,
   "metadata": {},
   "outputs": [
    {
     "name": "stdout",
     "output_type": "stream",
     "text": [
      "Energy balance refers to the relationship between the energy intake (calories consumed through food and beverages) and energy expenditure (calories burned through physical activity and metabolic processes). It is essential in weight management because maintaining a balance between the calories consumed and burned helps in achieving weight stability. When the energy intake is equal to the energy expenditure, the body is in balance, and weight is maintained. If there is a negative energy balance (taking in fewer calories than burned), the body will use its stored energy (fat) for fuel, leading to weight loss. On the other hand, a positive energy balance (consuming more calories than burned) results in weight gain as excess energy is stored as fat. By understanding and managing energy balance, individuals can achieve and maintain a healthy weight.\n"
     ]
    }
   ],
   "source": [
    "print(generation_chain.invoke({'question': 'Explain the concept of energy balance and its importance in weight management.'}))"
   ]
  },
  {
   "cell_type": "code",
   "execution_count": 35,
   "metadata": {},
   "outputs": [
    {
     "name": "stdout",
     "output_type": "stream",
     "text": [
      "The symptoms of pellagra include fatigue, decreased appetite, and indigestion, followed by the four D's: diarrhea, dermatitis, dementia, and sometimes death.\n"
     ]
    }
   ],
   "source": [
    "print(generation_chain.invoke({'question': 'What are symptoms of pellagra?'}))"
   ]
  },
  {
   "cell_type": "code",
   "execution_count": null,
   "metadata": {},
   "outputs": [],
   "source": []
  }
 ],
 "metadata": {
  "kernelspec": {
   "display_name": "Python 3",
   "language": "python",
   "name": "python3"
  },
  "language_info": {
   "codemirror_mode": {
    "name": "ipython",
    "version": 3
   },
   "file_extension": ".py",
   "mimetype": "text/x-python",
   "name": "python",
   "nbconvert_exporter": "python",
   "pygments_lexer": "ipython3",
   "version": "3.10.4"
  }
 },
 "nbformat": 4,
 "nbformat_minor": 2
}
